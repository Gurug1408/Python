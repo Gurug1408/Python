{
 "cells": [
  {
   "cell_type": "markdown",
   "metadata": {},
   "source": [
    "****String****\n",
    "\n",
    "\"A string in Python is a sequence of characters enclosed in single, double, or triple quotes. Strings are immutable, meaning once created, their content cannot be changed, making them ideal for storing and manipulating text data.\""
   ]
  },
  {
   "cell_type": "code",
   "execution_count": 2,
   "metadata": {},
   "outputs": [
    {
     "name": "stdout",
     "output_type": "stream",
     "text": [
      "String is a sequence of characters enclosed either in single quotes or double quotes. String is used to store and manipulate the textual data\n",
      "\n",
      "Creating a string\n",
      "Hello Charan\n",
      "How are you feeling today!\n",
      " If you want to talk, you can tell me in multi - line comments\n",
      " I will listen to you\n"
     ]
    }
   ],
   "source": [
    "print (\"String is a sequence of characters enclosed either in single quotes or double quotes. String is used to store and manipulate the textual data\")\n",
    "print ()\n",
    "print (\"Creating a string\")\n",
    "print ('Hello Charan')\n",
    "print (\"How are you feeling today!\")\n",
    "print (''' If you want to talk, you can tell me in multi - line comments\n",
    " I will listen to you''')"
   ]
  },
  {
   "cell_type": "code",
   "execution_count": 3,
   "metadata": {},
   "outputs": [],
   "source": [
    "string1 = (\"Charan\")\n",
    "string2 = ('Python')\n",
    "string3 = (''' Started learning python \n",
    "  With some entertainment ''')"
   ]
  },
  {
   "cell_type": "code",
   "execution_count": 4,
   "metadata": {},
   "outputs": [
    {
     "name": "stdout",
     "output_type": "stream",
     "text": [
      "Charan\n",
      "Python\n",
      " Started learning python \n",
      "  With some entertainment \n"
     ]
    }
   ],
   "source": [
    "print(string1)\n",
    "print(string2)\n",
    "print(string3)"
   ]
  },
  {
   "cell_type": "code",
   "execution_count": 5,
   "metadata": {},
   "outputs": [
    {
     "name": "stdout",
     "output_type": "stream",
     "text": [
      "Charan\n",
      "Python\n",
      " Started learning python \n",
      "  With some entertainment \n"
     ]
    }
   ],
   "source": [
    "print(string1, string2, string3, sep = \"\\n\")"
   ]
  },
  {
   "cell_type": "markdown",
   "metadata": {},
   "source": [
    "**String Indexing**\n",
    "\n",
    "String indexing is fetching the individual characters from a string based on the position of character within the string. The indices start from 0 in the string and negative indicing starts from -1 and it counts from the end of the string.\n",
    "\n",
    "**String Slicing**\n",
    "\n",
    "String Slicing is extracting a substring or part of the string from the string by using the range of indices. Slicing is done by specifying a start, end, step.\n",
    "\n",
    "- Slicing can be different types.\n",
    "- *Basic Slicing:* Extracting a substring by specifying start and end indices.\n",
    "- *Slicing with Step:* Using a step to skip characters in the substring.\n",
    "- *Slicing with Omitted Start/Stop:* If you omit the start and stop, it uses the default values.\n",
    "- *Negative Indexing with Slicing:* Negative indices can be used for slicing too, to count from the end of the string.\n",
    "- *Slicing with Negative Step:* Using a negative step to reverse the string or take characters in reverse order.\n",
    "\n",
    "\n"
   ]
  },
  {
   "cell_type": "code",
   "execution_count": 13,
   "metadata": {},
   "outputs": [
    {
     "name": "stdout",
     "output_type": "stream",
     "text": [
      "T\n",
      "x\n",
      "Ti \n",
      "elpmaxe g\n",
      "This \n",
      "e\n",
      "This the indexing and slicing exampl\n",
      "exampl\n"
     ]
    }
   ],
   "source": [
    "string = (\"This the indexing and slicing example\")\n",
    "\n",
    "#String indexing\n",
    "\n",
    "print(string[0])\n",
    "print(string[-6])\n",
    "\n",
    "#String Slicing\n",
    "\n",
    "print(string[0:6:2])\n",
    "print(string[-1:-10:-1])\n",
    "print(string[0:5])\n",
    "print(string[-1:])\n",
    "print(string[:-1])\n",
    "print(string[-7:-1])"
   ]
  },
  {
   "cell_type": "markdown",
   "metadata": {},
   "source": [
    "*Positive Indexing* - Accessing characters from positive indices from left to right. It starts with 0"
   ]
  },
  {
   "cell_type": "code",
   "execution_count": 3,
   "metadata": {},
   "outputs": [
    {
     "name": "stdout",
     "output_type": "stream",
     "text": [
      "h\n",
      "r\n",
      "'\n"
     ]
    }
   ],
   "source": [
    "Name = (\"Charan's Python Practice\")\n",
    "\n",
    "print (Name[1])\n",
    "print (Name[3])\n",
    "print (Name[6])"
   ]
  },
  {
   "cell_type": "markdown",
   "metadata": {},
   "source": [
    "*Negative Indexing* - Accessing characters from negative indices from right to left. It starts with -1."
   ]
  },
  {
   "cell_type": "code",
   "execution_count": 6,
   "metadata": {},
   "outputs": [
    {
     "name": "stdout",
     "output_type": "stream",
     "text": [
      "e\n",
      "i\n",
      "a\n"
     ]
    }
   ],
   "source": [
    "print (Name[-1])\n",
    "print (Name[-3])\n",
    "print (Name[-6])"
   ]
  },
  {
   "cell_type": "markdown",
   "metadata": {},
   "source": [
    "*Basic Slicing* - It is a general slicing extracting a substring from a string using range of indices from start index to end-1 index."
   ]
  },
  {
   "cell_type": "code",
   "execution_count": 11,
   "metadata": {},
   "outputs": [
    {
     "name": "stdout",
     "output_type": "stream",
     "text": [
      "Charan\n",
      "'s \n",
      "Python Practice\n"
     ]
    }
   ],
   "source": [
    "print (Name [0:6])\n",
    "print (Name [6:9])\n",
    "print (Name [9:24])"
   ]
  },
  {
   "cell_type": "markdown",
   "metadata": {},
   "source": [
    "*Omitting the start index:* If you omit start, the slicing starts from the beginning of the string."
   ]
  },
  {
   "cell_type": "code",
   "execution_count": 14,
   "metadata": {},
   "outputs": [
    {
     "name": "stdout",
     "output_type": "stream",
     "text": [
      "Charan\n",
      "Charan's \n",
      "Charan's Python Practice\n"
     ]
    }
   ],
   "source": [
    "print (Name[:6])\n",
    "print (Name[:9])\n",
    "print (Name[:24])"
   ]
  },
  {
   "cell_type": "markdown",
   "metadata": {},
   "source": [
    "*Omitting the end index:*  If you omit end, the slicing continues to the end of the string."
   ]
  },
  {
   "cell_type": "code",
   "execution_count": 6,
   "metadata": {},
   "outputs": [
    {
     "name": "stdout",
     "output_type": "stream",
     "text": [
      "Charan's Python Practice\n",
      "Python Practice\n"
     ]
    }
   ],
   "source": [
    "Name = ('Charan\\'s Python Practice')\n",
    "print (Name[0:])\n",
    "print (Name[9:])"
   ]
  },
  {
   "cell_type": "markdown",
   "metadata": {},
   "source": [
    "*Using the step value (Start:End:Step)* : Extracting characters at regular intervals (skipping indices)."
   ]
  },
  {
   "cell_type": "code",
   "execution_count": 10,
   "metadata": {},
   "outputs": [
    {
     "name": "stdout",
     "output_type": "stream",
     "text": [
      "Caa\n",
      "Caa' yhnPatc\n",
      "C P\n"
     ]
    }
   ],
   "source": [
    "print (Name[0:5:2])\n",
    "print (Name[0:25:2])\n",
    "print (Name[0:25:8])"
   ]
  },
  {
   "cell_type": "markdown",
   "metadata": {},
   "source": [
    "*Negative Step (Reversing the string)*: Using a negative step to reverse the string or extract substrings in reverse order."
   ]
  },
  {
   "cell_type": "code",
   "execution_count": 12,
   "metadata": {},
   "outputs": [
    {
     "name": "stdout",
     "output_type": "stream",
     "text": [
      "ecitcarP nohtyP s'narahC\n",
      "eor\n"
     ]
    }
   ],
   "source": [
    "print (Name [::-1])\n",
    "print (Name [::-10])"
   ]
  },
  {
   "cell_type": "markdown",
   "metadata": {},
   "source": [
    "*Slicing with Negative Indices:* Using negative indices in the start or end of the slice to access characters from the end."
   ]
  },
  {
   "cell_type": "code",
   "execution_count": 19,
   "metadata": {},
   "outputs": [
    {
     "name": "stdout",
     "output_type": "stream",
     "text": [
      "Practic\n",
      "Practice\n"
     ]
    }
   ],
   "source": [
    "print (Name[-8:-1])\n",
    "print (Name [-8:])"
   ]
  }
 ],
 "metadata": {
  "kernelspec": {
   "display_name": "Python 3",
   "language": "python",
   "name": "python3"
  },
  "language_info": {
   "codemirror_mode": {
    "name": "ipython",
    "version": 3
   },
   "file_extension": ".py",
   "mimetype": "text/x-python",
   "name": "python",
   "nbconvert_exporter": "python",
   "pygments_lexer": "ipython3",
   "version": "3.12.1"
  }
 },
 "nbformat": 4,
 "nbformat_minor": 2
}
